{
 "cells": [
  {
   "cell_type": "markdown",
   "metadata": {},
   "source": [
    "# Project Description"
   ]
  },
  {
   "cell_type": "markdown",
   "metadata": {},
   "source": [
    "This project develops a chatbot for assisting users in deciding what to eat by providing customized meal suggestions. The inspiration for this project comes from the everyday dilemma that many face: deciding what to cook. Often, people find themselves unsure of what to prepare, either due to time constraints or a lack of culinary inspiration. This chatbot aims to minimize this indecision by providing a database of recipes that users can explore based on how much time they have available, their curiously for a random cuisine, or their preference for a specific type of meal. The database comes from a public dataset on Kaggle called \"Food.com Recipes with Search Terms and Tags\" made by Shuyang Li, Yufei Li, Jianmo Ni, and Julian McAuley. (link: https://www.kaggle.com/datasets/shuyangli94/foodcom-recipes-with-search-terms-and-tags)\n",
    "\n",
    "Each option is designed to interactively engage the user with prompt responses, allowing for a tailored experience. For example, if a user selects to search based on the type of dish, the chatbot efficiently searches through meal names/categorized paths in the recipe dataset, like \"/Desserts/Fruit Desserts/Apple Dessert Recipes/\", ensuring that users can quickly find a match that suits their taste or current pantry options. This chatbot not only suggests what to cook but also provides detailed recipes and preparation times, enhancing the user's cooking experience.\n",
    "\n",
    "## **Functionality Overview:**\n",
    "\n",
    "**1. Time-Based Suggestions (suggest_based_on_time(max_time)):**\n",
    "\n",
    "This function is designed for users who have specific time constraints for meal preparation. Users input the maximum amount of time they can allocate (integer in minutes), and the chatbot filters through the recipe database to suggest meals that can be prepared within this timeframe. The function handles user input carefully, ensuring that only valid numerical inputs are processed. If no recipes match the criteria, the user is prompted to adjust the time limit or try a different query.\n",
    "\n",
    "**2. Random Meal Suggestions (suggest_random_recipe(df)):**\n",
    "\n",
    "For users seeking culinary inspiration, this function randomly selects a recipe from the dataset. It presents comprehensive details about the chosen dish, including ingredients, instructions, and total preparation time. This feature is particularly useful for users who are open to trying new recipes without any specific preferences.\n",
    "\n",
    "**3. Random High Rating Meal Suggestions (suggest_highly_rated_recipe(df)):**\n",
    "\n",
    "For users seeking culinary inspiration that is rated highly on Food.com, this function randomly selects a recipe from the dataset. It presents comprehensive details about the chosen dish, including ingredients, instructions, and total preparation time. This feature is particularly useful for users who are open to trying new recipes that is popular.\n",
    "\n",
    "**4. Preference-Based Suggestions (suggest_w_preference(preference)):**\n",
    "\n",
    "This function allows users to input a specific meal name or a type of cuisine they are interested in. The chatbot searches the dataset for matches based on the recipe name and cuisine path. It provides detailed suggestions that match the user's input and offers the option to continue searching with new keywords or get another suggestion based on the same keyword.\n",
    "\n",
    "**5. Interactive Chatbot Interface (chatbox()):**\n",
    "\n",
    "The chatbot operates through a simple text-based interface where users can choose the type of suggestion they want: \n",
    "\n",
    "- based on time --> type '1' to choose\n",
    "- random selection --> type '2' to choose \n",
    "- one high rating suggestion --> type '3' to choose\n",
    "- or preference --> type '4' to choose\n",
    "\n",
    "Users can choose different functions by typing different numbers. The chatbot handles various user responses and maintains an engaging dialogue to ensure a helpful and friendly user experience."
   ]
  },
  {
   "cell_type": "markdown",
   "metadata": {},
   "source": [
    "## Project Code"
   ]
  },
  {
   "cell_type": "code",
   "execution_count": 2,
   "metadata": {
    "scrolled": false
   },
   "outputs": [
    {
     "name": "stdout",
     "output_type": "stream",
     "text": [
      "Hello! I'm your Recipe Chatbot:) \n",
      "\n",
      "I can help you decide what to cook!\n",
      "\n",
      "Do you have any idea about what to eat yet?\n",
      "\n",
      "I can provide you with some ideas in the following ways!\n",
      "\n",
      "1. The maximum amount of time willing to spend for meal preparation (answer '1')\n",
      "\n",
      "2. Random suggestions (answer '2')\n",
      "\n",
      "3. One random suggestion of a high rating recipe (answer '3')\n",
      "\n",
      "4. Based on dish name/types (answer '4')\n",
      "\n",
      "Or 'exit' to STOP! 4\n",
      "-------------------------------------------------------------------------------------------\n",
      "\n",
      "What do you have in mind? Please specify a meal name or type: Coffee\n",
      "\n",
      "How about trying ***Coffee-Dusted Pear Galette***? Here's a brief about it:\n",
      "\n",
      "[Ingredients]: 1 ½ cups all-purpose flour, 1 ½ teaspoons white granulated sugar, 1 teaspoon fine sea salt, ½ cup unsalted butter, frozen, 7 tablespoons ice-cold water, or more as needed, divided, 1 large egg, beaten (for egg wash), 1 tablespoon turbinado sugar, 1 sheet Reynolds Wrap® Aluminum Foil, 1 sheet Reynolds® Parchment Paper\n",
      "\n",
      "[Instructions:] In a large bowl, mix together the flour, sugar and salt. Using a box grater, grate the cold butter atop the flour mixture. Working quickly and using your hands, break the butter bits into the flour until they're evenly distributed and resemble the size of small peas.\n",
      "Add 4 tablespoons of water and mix. The mixture will be shaggy at this point. From here, add 1 tablespoon of water at a time until the dough comes together (generally about 3 additional tablespoons). Flour a work surface and dump the dough onto it. Knead a few times until it comes together. Form dough into a disk. Wrap the disk in plastic wrap and transfer to the refrigerator to chill for at least 1 hour, ideally overnight.\n",
      "Just before the dough is ready to remove from the fridge, mix together the filling. In a medium bowl, toss together the pear slices, brown sugar, cocoa powder, coffee grounds, vanilla extract and salt.\n",
      "Remove the disk of dough from the refrigerator and allow to come to room temperature for 10 minutes. Liberally flour a work surface and rolling pin. Begin to roll the dough to a 16-inch round, being sure to rotate it every so often to avoid sticking, Using the bottom of a bowl or plate that measures about 6 inches in diameter, cut out 3 circles. Re-roll the scraps to get 1 additional circle.\n",
      "Arrange the pears slices neatly in a circular pattern in the center of each of the pie crust rounds, leaving about 1 1/2 inch clear at the edges. Fold over the edges to cover about 1/2 inch of the filling. Repeat with the remaining rounds. Transfer the galettes to a baking sheet lined with Reynolds® Parchment Paper and place in the freezer to chill for 15 minutes. Meanwhile, preheat your oven to 400 degrees F.\n",
      "Lastly, brush the pie crust edges with the egg wash and sprinkle with turbinado sugar. Transfer to the oven to bake for 20 to 25 minutes, until the edges are golden brown. Check on the galettes periodically. If at any time the crusts' edges are getting too brown, take a piece of Reynolds Wrap® Aluminum Foil and tent over the edges. When the edges are golden brown, remove from the oven. Serve warm with a dollop of whipped cream or a scoop of your favorite vanilla ice cream.\n",
      "\n",
      "[Total Preparation Time]: 50 mins\n",
      "-------------------------------------------------------------------------------------------\n",
      "\n",
      "Would you like another suggestion, search with another keyword, or quit? (yes/another/quit): another\n",
      "\n",
      "Please specify another meal name or type: Chinese\n",
      "\n",
      "How about trying ***Sweet and Sour Pork Tenderloin***? Here's a brief about it:\n",
      "\n",
      "[Ingredients]: 1 (1 1/4 pound) pork tenderloin, trimmed of silver skin,   salt and ground black pepper, ⅓ cup ketchup, ⅓ cup seasoned rice vinegar, 1 (8 ounce) can pineapple chunks, drained with juice reserved, 2 tablespoons brown sugar, 4 cloves garlic, minced, 2 teaspoons hot chili sauce (such as Sriracha®), 1 teaspoon soy sauce, 1 pinch red pepper flakes, 1 tablespoon vegetable oil, 1 teaspoon butter, ¼ cup chopped green onion (white part only), 2 tablespoons chopped green onion tops\n",
      "\n",
      "[Instructions:] Cut tenderloin into 4 pieces. Arrange in a single layer between two sheets of plastic wrap and pound with a meat mallet until each is about 1-inch thick. Generously season with salt and black pepper.\n",
      "Whisk ketchup, rice vinegar, reserved pineapple juice, brown sugar, garlic, hot chili sauce, soy sauce, and red pepper flakes in a bowl. Set aside.\n",
      "Heat vegetable oil in a skillet over high heat. Place pork in pan; reduce heat to medium. Cook until browned on both sides and cooked through, 5 to 6 minutes per side. Transfer to a plate.\n",
      "Return skillet to medium heat. Stir butter into hot pan. When butter melts and starts to brown, stir in pineapple chunks. Cook, stirring, until pineapple is golden brown, 3 to 4 minutes.\n",
      "Stir in ketchup mixture and 1/4 cup green onion (white parts). Reduce heat to low and simmer until garlic and onion have softened, 5 minutes.\n",
      "Return pork to skillet; cook, stirring, until pork is heated through. Garnish with 2 tablespoons green onion tops.\n",
      "Erin Marie\n",
      "\n",
      "[Total Preparation Time]: 55 mins\n",
      "-------------------------------------------------------------------------------------------\n",
      "\n",
      "Would you like another suggestion, search with another keyword, or quit? (yes/another/quit): quit\n",
      "\n",
      "Thanks and have a great meal!\n",
      "\n",
      "Bye!!!\n"
     ]
    }
   ],
   "source": [
    "from my_module import functions as func\n",
    "\n",
    "func.chatbot()"
   ]
  },
  {
   "cell_type": "markdown",
   "metadata": {},
   "source": [
    "## Test Functions\n",
    "\n",
    "#### - Unit Testing\n",
    "Three core functions were identified as suitable for unit testing due to their deterministic nature and the ability to validate their outputs directly:\n",
    "\n",
    "1. **test_convert_time_to_minutes:** This function was extensively tested to ensure it accurately converts various time formats to minutes. Tests included conversions from hours and minutes, only minutes, only hours, and handling edge cases like no time provided.\n",
    "\n",
    "2. **test_clean_directions:** Aimed at ensuring the text cleaning process effectively removes unnecessary newlines and trims excess whitespace. Tests covered scenarios with multiple formatting issues, no issues, and inputs consisting solely of whitespace or being empty.\n",
    "\n",
    "3. **test_suggest_highly_rated_recipe:** Tested the functionality that suggests a recipe based on a high rating threshold. The test ensured that the function correctly filters recipes by rating and returns a properly formatted message about the selected recipe. Mocking was utilized to simulate DataFrame operations, ensuring consistent and predictable outputs.\n",
    "\n",
    "#### - Considerations for Non-Testable Functions\n",
    "Some functions in the project did not lend themselves easily to unit testing due to their reliance on user interactions, recursive behavior, or their operational complexity, including:\n",
    "\n",
    "1. Functions involving recursion and user input, which are challenging to test in isolation without extensive setup or integration testing frameworks.\n",
    "\n",
    "2. Functions that primarily output via print statements rather than returning values, complicating the capture and verification of outputs without modifying the functions for testing purposes."
   ]
  },
  {
   "cell_type": "code",
   "execution_count": 3,
   "metadata": {},
   "outputs": [],
   "source": [
    "# test it out\n",
    "import my_module.test_functions as test\n",
    "\n",
    "test.test_convert_time_to_minutes()\n",
    "test.test_clean_directions()\n",
    "test.test_suggest_highly_rated_recipe()"
   ]
  },
  {
   "cell_type": "markdown",
   "metadata": {},
   "source": [
    "#### Extra Credit (*optional*)\n",
    "\n",
    "- My journey with Python started during high school after I transferred to a new school in my sophomore year. Due to a lack of prerequisite courses completed, my options were limited, prompting me to enroll in an \"Intro to Computer Science\" class. This course was my first experience in the field of programming and was heavily project-based, which I found incredibly engaging. We tackled many interesting projects, some of which covered concepts later revisited in COGS 18, such as decipher functions. My final project involved creating a Flappy Bird game using Pygame, which not only deepened my interest in computer science but also gave me a significant sense of achievement and boosted my confidence in the field.\n",
    "\n",
    "\n",
    "- My final project for COGS 18 was not just a Chatbot; it also incorporated a data analysis function. This feature involved importing an external database, analyzing data based on user inputs, and providing relevant responses, which required integrating multiple concepts learned during the course. To enhance the project further, I challenged myself to learn advanced techniques in Panda, such as handling NaN values in datasets. Moreover, I implemented recursion to enable continuous interaction within the chatbot, allowing it to handle various functions seamlessly. I also learned how to source and utilize public datasets, which added a significant real-world application aspect to the project. These additions not only challenged me to apply and extend my programming skills but also enhanced the functionality and user experience of the Chatbot."
   ]
  }
 ],
 "metadata": {
  "kernelspec": {
   "display_name": "Python 3 (ipykernel)",
   "language": "python",
   "name": "python3"
  },
  "language_info": {
   "codemirror_mode": {
    "name": "ipython",
    "version": 3
   },
   "file_extension": ".py",
   "mimetype": "text/x-python",
   "name": "python",
   "nbconvert_exporter": "python",
   "pygments_lexer": "ipython3",
   "version": "3.9.5"
  }
 },
 "nbformat": 4,
 "nbformat_minor": 2
}
